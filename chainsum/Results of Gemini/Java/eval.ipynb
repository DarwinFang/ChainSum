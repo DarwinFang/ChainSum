{
 "cells": [
  {
   "cell_type": "code",
   "execution_count": 1,
   "id": "initial_id",
   "metadata": {
    "collapsed": true,
    "ExecuteTime": {
     "end_time": "2024-07-31T13:47:47.713792Z",
     "start_time": "2024-07-31T13:47:46.652840Z"
    }
   },
   "outputs": [],
   "source": [
    "import sys\n",
    "import os\n",
    "current_dir = os.path.abspath('./../../../c2nl/eval')\n",
    "sys.path.append(current_dir)\n",
    "from rouge.rouge import Rouge\n",
    "from c2nl.eval.bleu import Bleu, nltk_corpus_bleu, corpus_bleu\n",
    "from meteor import Meteor\n",
    "import json\n",
    "from nltk.translate.meteor_score import meteor_score"
   ]
  },
  {
   "cell_type": "code",
   "execution_count": 2,
   "outputs": [],
   "source": [
    "ref_file = './../test_data.json'\n",
    "ref = json.load(open(ref_file, 'r'))[:100]\n",
    "res_dict = dict()\n",
    "for d in ref:\n",
    "    res_dict[str(d['id'])] = [d['text'].replace(',', ' ,').replace('.', ' .')]"
   ],
   "metadata": {
    "collapsed": false,
    "ExecuteTime": {
     "end_time": "2024-07-31T12:29:54.773092Z",
     "start_time": "2024-07-31T12:29:54.742736Z"
    }
   },
   "id": "e603d7f5cb103b45"
  },
  {
   "cell_type": "code",
   "execution_count": 3,
   "outputs": [
    {
     "data": {
      "text/plain": "{'1': [' Returns a 0-based depth within the object graph of the current object being serialized .'],\n '2': [' Checks whether the scheme alters the training dataset during building . If the scheme needs to modify the data it should take a copy of the training data . Currently checks for changes to header structure , number of instances , order of instances , instance weights .'],\n '3': [' Compute the union size of two Bitsets .'],\n '4': [' Tests local candidates with remote version in the middle on key2 .'],\n '5': [' Actions to perform when the user has closed the dialog with the OK button .'],\n '6': [' Prints out the classifier .'],\n '7': [\" Returns a new sector whose angles are the extremes of the this sector and another . The new sector's minimum latitude and longitude will be the minimum of the two sectors . The new sector's maximum latitude and longitude will be the maximum of the two sectors . The sectors are assumed to be normalized to +/- 90 degrees latitude and +/- 180 degrees longitude . The result of the operation is undefined if they are not .\"],\n '8': [' Checks if is double values are equal .'],\n '9': [' Integer value of a positive BigDecimal'],\n '10': [' Main recursive method to examine the directory hierarchy .'],\n '11': [' Get a sorted array containing all column values for a given tuple iterator and field .'],\n '12': [' Divide with invalid rounding mode'],\n '13': [\" Receives notification of a change to the plot's dataset .   The axis ranges are updated if necessary .\"],\n '14': [' Invoke the onScheduler() in IScheduler directly as a library'],\n '15': [' Returns true if specified type is Java .lang .String '],\n '16': [\" API method . Returns an entry for the source indexed by the user and the url . This method creates it if it didn't already exist .\"],\n '17': [' Validates the given SQL statement where its position in the list of statement is the given index . This method does not validate SQL syntax .'],\n '18': [' Converts to object array .'],\n '19': [' Is this logger instance enabled for the FINEST level?'],\n '20': [' Remove an used up missile from an attacking player .'],\n '21': [' Creates a new matcher for running CoAP over TCP .'],\n '22': [' recursively does the work'],\n '23': [' Ask to the user for retyping the pass code just entered before saving it as the current pass code .'],\n '24': [' Rolls back the worker thread creation . - removes worker from workers , if present - decrements worker count - rechecks for termination , in case the existence of this worker was holding up termination'],\n '25': [' InsertFunctionalityTest#testInsert4() . Tests INSERT  . . . SELECT with expressions in SELECT query'],\n '26': [' Writes one entry to the local id map on disk .'],\n '27': [' Receive notification of the end of an element .'],\n '28': [' Send a FATAL ERROR log message'],\n '29': [' Leaves can be used for many-to-many relations'],\n '30': [' Returns a string representation of this vector .  Note that this string representation shows the bit of index 0 at the leftmost position .'],\n '31': [\" Validate the URI characters within a specific component . The component must be performed after escape encoding . Or it doesn't include escaped characters .   It's not that much strict , generous . The strict validation might be performed before being called this method .\"],\n '32': [' Build the final bitmap-pieces to draw in animation'],\n '33': [' De-registers a previously-registered virtual-machine shutdown hook .'],\n '34': [\" A separate thread collects our input so that we can block in the doContinue on the main thread and then allow the user to interrupt us via keyboard input on this thread .   We built the stupid thing in this manner , since readLine() will block no matter what and if we quit we can't seem to kill this thread .   .close() doesn't work and Thread .stop() , etc . all fail to do the job .   Thus we needed to take a request response approach so that we only block when requested to do so .\"],\n '35': [' Bounds the current scroll if necessary'],\n '36': [' Adds the statistics encapsulated in the supplied Evaluation object into this one . Does not perform any checks for compatibility between the supplied Evaluation object and this one .'],\n '37': [' scans all sites until all volumes involved in the Recoverpoint protection are visible'],\n '38': [' This method is called immediately following cache creation in the spawned process , but prior to setting the RUNNING flag in the status file . So the spawning process will block until this method completes .'],\n '39': [' Update the content of the outline view .'],\n '40': [' Paints the image on the window .'],\n '41': [' Returns true if , at this time , the object will accept a connection with respect to the named event'],\n '42': [' It returns true if the attribute is prefixed (used the : character) .'],\n '43': [' Release a non-shard-specific connection .'],\n '44': [' Adds a collection of actions to the QuickActionView'],\n '45': [' Adds a simple renderer to the multiple renderer .'],\n '46': [' Copies stream , fires progress events by listener , can be interrupted by listener .'],\n '47': [' calculates the needed angle for a given value'],\n '48': [' Returns a buffer to the pool , throwing away old buffers if the pool would exceed its allotted size .'],\n '49': [' Creates a new instance .'],\n '50': [' Append string of the given CharSeq to this CharSeq'],\n '51': [' This method processes all of the HTTP GET requests routed to the servlet by the web container . This method loops through the lists of videos that have been sent to it and generates a plain/text  list of the videos that is sent back to the client .'],\n '52': [\" Change the stored state value and do notification , but don't change anything in the hardware\"],\n '53': [' test for getOrder() method'],\n '54': [' Formats and logs a message with a Throwable .'],\n '55': [' Constructs the redis queue sorted set key name given a queue name , shard id and priority .'],\n '56': [' Decodes the string into specified charset'],\n '57': [' Adds specified domain name to the list of restricted domains'],\n '58': [' Create a new read lock from the given lock'],\n '59': [' Tests fail: always returns false , failing statements commented out . Feature only partially implemented .Missing: Test positive case Not supported .'],\n '60': [' Computes the interface hash of the stub/skeleton pair for this remote implementation class .  This is the 64-bit value used to enforce compatibility between a stub class and a skeleton class in the JDK 1 .1 version of the JRMP stub/skeleton protocol . It is calculated using the first 64 bits of an SHA digest .  The digest is of a stream consisting of the following data: (int) stub version number , always 1 for each remote method , in order of operation number: (UTF-8) method name (UTF-8) method descriptor for each declared exception , in alphabetical name order: (UTF-8) name of exception class (where UTF-8 includes a 16-bit length prefix as written by java .io .DataOutput .writeUTF) .'],\n '61': [' Copy the contents of the given byte array to the given OutputStream . Leaves the stream open when done .'],\n '62': [\" Returns true whether this page doesn't contain items , returns false if it does . \"],\n '63': [' Decodes a frame if needed .'],\n '64': [' Encode parts of the message using Text Compaction as described in ISO/IEC 15438:2001(E) , chapter 4 .4 .2 .'],\n '65': [' Check to see if a string is a valid NCName according to [4] from the XML Namespaces 1 .0 Recommendation'],\n '66': [' Appends the specified element to the end of this list .'],\n '67': [' prepare the dataset required for running test cases'],\n '68': [' Returns array of ServiceRegistrar created from the proxyRegSet'],\n '69': [' Check if the supplied value is a valid value .'],\n '70': [' Find a new primary , adding any failed servers we encounter to the excluded servers list First we try to make a backup server the primary , but if run out of backup servers we will try to find a new server .'],\n '71': [' Creates a new journal that omits redundant information . This replaces the current journal if it exists .'],\n '72': [' Removes the recurrence from persistant store . '],\n '73': [\" Copy NodeList members into this nodelist , adding in document order .  If a node is null , don't add it .\"],\n '74': [\" Fetches data if it hasn't been fetched in a while .\"],\n '75': [' Introduced in DOM Level 2 .     Creates an empty DocumentType node .'],\n '76': [' Services a Commandline Request .'],\n '77': [' Serializes this nested object into byte[]'],\n '78': [' Returns first enum constant found in at space-separated list of style names .'],\n '79': [' sceMpegNextAvcRpAu - skip one video frame'],\n '80': [' Given a set of ExportMask URIs , return a map of ExportMask URI to ExportMask object'],\n '81': [' Insert an entry at this index .'],\n '82': [' Write a graphic to the printout .   This was not in the original class , but was added afterwards by Kevin Dickerson . it is a copy of the write , but without the scaling .   The image is positioned on the right side of the paper , at the current height .'],\n '83': [' Put the source tree root node in the document cache . TODO: This function needs to be a LOT more sophisticated .'],\n '84': [' Used to communicate a progress update between a plugin tool and the main Whitebox user interface .'],\n '85': [' copy a input resource to a output resource'],\n '86': [' Fade audio file sox   outFile fade        '],\n '87': [' TODO: to be implemented'],\n '88': [' For all the classes , loads all properties from each Class annotations for the given platform .'],\n '89': [' Add a number to zero'],\n '90': [' Fixes the GPS Timestamp in EXIF .'],\n '91': [' Check if a cell consumes the specified event type .'],\n '92': [' Read a single character .  This method will block until a character is available , an I/O error occurs , or the end of the stream is reached .   Subclasses that intend to support efficient single-character input should override this method .'],\n '93': [' This function is used to plot the y axis and its breakdown with value . Uses drawLine() method to create the y axis and lines to show breakdown of y axis and drawText() method to plot labels related with breakdowns'],\n '94': [' Get running-maximum time-delta , in nanoseconds .'],\n '95': [\" Prints a file with the native desktop printing facility , using the associated application's print command .\"],\n '96': [' Extends the existing groundings with the alternative groundings'],\n '97': [' This will attempt to read string matching the given pattern from the document at the current point indicated by the cursor . If failed to do so , the method will be expected to throw an exception or take corrective measures .'],\n '98': [' Test for bug [974036] Bug in 0 .8rc1 DatabaseMetaData method getTableTypes()'],\n '99': [' This method will be used to check whether stream is already present in cache or not for filepath if not present then create it and then add to cache , other wise get from cache'],\n '100': [' Removes a listener from the set of listeners']}"
     },
     "execution_count": 3,
     "metadata": {},
     "output_type": "execute_result"
    }
   ],
   "source": [
    "res_dict"
   ],
   "metadata": {
    "collapsed": false,
    "ExecuteTime": {
     "end_time": "2024-07-31T12:29:54.773261Z",
     "start_time": "2024-07-31T12:29:54.769792Z"
    }
   },
   "id": "25700726ca8d27db"
  },
  {
   "cell_type": "code",
   "execution_count": 4,
   "outputs": [],
   "source": [
    "def self_score(file, res_dict):\n",
    "    gpt_pred = json.load(open(file, 'r'))\n",
    "    meteor = []\n",
    "    for j in range(100):\n",
    "        t = \"{}\".format(j+1)\n",
    "        p = [w for w in gpt_pred[t][0].split()]\n",
    "        r = [w for w in res_dict[t][0].split()]\n",
    "        res = round(meteor_score([r], p), 4)*100\n",
    "        meteor.append(res)\n",
    "    return meteor"
   ],
   "metadata": {
    "collapsed": false,
    "ExecuteTime": {
     "end_time": "2024-07-31T12:29:54.784614Z",
     "start_time": "2024-07-31T12:29:54.773023Z"
    }
   },
   "id": "be7118b5f54d2eb3"
  },
  {
   "cell_type": "code",
   "execution_count": 5,
   "outputs": [],
   "source": [
    "def my_score(res_dict):\n",
    "    gpt_pred = json.load(open('standard_json_file.json', 'r'))\n",
    "    meteor = []\n",
    "    for j in range(100):\n",
    "        p = [w for w in gpt_pred[j][\"predictions\"][0].split()]\n",
    "        r = [w for w in gpt_pred[j][\"references\"][0].split()]\n",
    "        res = round(meteor_score([r], p), 4)*100\n",
    "        meteor.append(res)\n",
    "    return meteor"
   ],
   "metadata": {
    "collapsed": false,
    "ExecuteTime": {
     "end_time": "2024-07-31T12:29:54.785723Z",
     "start_time": "2024-07-31T12:29:54.776122Z"
    }
   },
   "id": "814d4cbc3fb72a1f"
  },
  {
   "cell_type": "code",
   "execution_count": 7,
   "outputs": [],
   "source": [
    "r = \"check if a cell consumes the specified event type .\".split()"
   ],
   "metadata": {
    "collapsed": false,
    "ExecuteTime": {
     "end_time": "2024-07-31T13:48:38.126603Z",
     "start_time": "2024-07-31T13:48:38.111675Z"
    }
   },
   "id": "bb762b444167619c"
  },
  {
   "cell_type": "code",
   "execution_count": 10,
   "outputs": [],
   "source": [
    "p = \"checks if a cell consumes the specified event type .\".split()"
   ],
   "metadata": {
    "collapsed": false,
    "ExecuteTime": {
     "end_time": "2024-07-31T13:48:51.869339Z",
     "start_time": "2024-07-31T13:48:51.856765Z"
    }
   },
   "id": "5825c29bd01b8bc9"
  },
  {
   "cell_type": "code",
   "execution_count": 11,
   "outputs": [
    {
     "data": {
      "text/plain": "99.95"
     },
     "execution_count": 11,
     "metadata": {},
     "output_type": "execute_result"
    }
   ],
   "source": [
    "round(meteor_score([r], p), 4)*100"
   ],
   "metadata": {
    "collapsed": false,
    "ExecuteTime": {
     "end_time": "2024-07-31T13:48:52.177880Z",
     "start_time": "2024-07-31T13:48:52.164869Z"
    }
   },
   "id": "613df71b1f2ea867"
  },
  {
   "cell_type": "code",
   "execution_count": null,
   "outputs": [],
   "source": [],
   "metadata": {
    "collapsed": false
   },
   "id": "85a3765015dafd23"
  },
  {
   "cell_type": "code",
   "execution_count": 6,
   "outputs": [],
   "source": [
    "res_pro = self_score('./llm_res_pro.json', res_dict)"
   ],
   "metadata": {
    "collapsed": false,
    "ExecuteTime": {
     "end_time": "2024-07-31T12:30:00.154042Z",
     "start_time": "2024-07-31T12:29:59.372726Z"
    }
   },
   "id": "3e426689231ff14d"
  },
  {
   "cell_type": "code",
   "execution_count": 7,
   "outputs": [],
   "source": [
    "res_fh = self_score('./../llm_res.json', res_dict)"
   ],
   "metadata": {
    "collapsed": false,
    "ExecuteTime": {
     "end_time": "2024-07-31T12:30:00.622760Z",
     "start_time": "2024-07-31T12:30:00.547718Z"
    }
   },
   "id": "32296d477ee66e49"
  },
  {
   "cell_type": "code",
   "execution_count": 8,
   "outputs": [],
   "source": [
    "res_my = my_score(res_dict)"
   ],
   "metadata": {
    "collapsed": false,
    "ExecuteTime": {
     "end_time": "2024-07-31T12:30:01.191266Z",
     "start_time": "2024-07-31T12:30:01.140705Z"
    }
   },
   "id": "680db738c424dd19"
  },
  {
   "cell_type": "code",
   "execution_count": 10,
   "outputs": [
    {
     "data": {
      "text/plain": "18.02"
     },
     "execution_count": 10,
     "metadata": {},
     "output_type": "execute_result"
    }
   ],
   "source": [
    "res_pro[68]"
   ],
   "metadata": {
    "collapsed": false,
    "ExecuteTime": {
     "end_time": "2024-07-31T12:30:18.174112Z",
     "start_time": "2024-07-31T12:30:18.157688Z"
    }
   },
   "id": "644a2a41bda8afa5"
  },
  {
   "cell_type": "code",
   "execution_count": 11,
   "outputs": [
    {
     "data": {
      "text/plain": "35.4"
     },
     "execution_count": 11,
     "metadata": {},
     "output_type": "execute_result"
    }
   ],
   "source": [
    "res_fh[68]"
   ],
   "metadata": {
    "collapsed": false,
    "ExecuteTime": {
     "end_time": "2024-07-31T12:31:03.563636Z",
     "start_time": "2024-07-31T12:31:03.555695Z"
    }
   },
   "id": "c9715c2af340358d"
  },
  {
   "cell_type": "code",
   "execution_count": 12,
   "outputs": [
    {
     "data": {
      "text/plain": "54.09"
     },
     "execution_count": 12,
     "metadata": {},
     "output_type": "execute_result"
    }
   ],
   "source": [
    "res_my[68]"
   ],
   "metadata": {
    "collapsed": false,
    "ExecuteTime": {
     "end_time": "2024-07-31T12:31:07.414973Z",
     "start_time": "2024-07-31T12:31:07.405609Z"
    }
   },
   "id": "c02252ccda207db7"
  },
  {
   "cell_type": "code",
   "execution_count": 17,
   "outputs": [],
   "source": [
    "with open('./' + 'meteor_pro.json', 'w') as save_file:\n",
    "    json.dump(res_pro, save_file, indent=2, separators=(',', ':'))"
   ],
   "metadata": {
    "collapsed": false,
    "ExecuteTime": {
     "end_time": "2024-07-31T11:20:07.129956Z",
     "start_time": "2024-07-31T11:20:07.126785Z"
    }
   },
   "id": "b5cfd9678136be12"
  },
  {
   "cell_type": "code",
   "execution_count": 18,
   "outputs": [],
   "source": [
    "with open('./' + 'meteor_llm.json', 'w') as save_file:\n",
    "    json.dump(res_fh, save_file, indent=2, separators=(',', ':'))"
   ],
   "metadata": {
    "collapsed": false,
    "ExecuteTime": {
     "end_time": "2024-07-31T11:20:48.951234Z",
     "start_time": "2024-07-31T11:20:48.913959Z"
    }
   },
   "id": "9715ce5269ec1caa"
  },
  {
   "cell_type": "code",
   "execution_count": 22,
   "outputs": [],
   "source": [
    "with open('./' + 'result_my.json', 'w') as save_file:\n",
    "    json.dump(res_my, save_file, indent=2, separators=(',', ':'))"
   ],
   "metadata": {
    "collapsed": false,
    "ExecuteTime": {
     "end_time": "2024-07-31T11:33:48.459776Z",
     "start_time": "2024-07-31T11:33:48.448437Z"
    }
   },
   "id": "84bbd4b351f40d94"
  },
  {
   "cell_type": "code",
   "execution_count": null,
   "outputs": [],
   "source": [],
   "metadata": {
    "collapsed": false
   },
   "id": "ce6f1bba20714e9b"
  }
 ],
 "metadata": {
  "kernelspec": {
   "display_name": "Python 3",
   "language": "python",
   "name": "python3"
  },
  "language_info": {
   "codemirror_mode": {
    "name": "ipython",
    "version": 2
   },
   "file_extension": ".py",
   "mimetype": "text/x-python",
   "name": "python",
   "nbconvert_exporter": "python",
   "pygments_lexer": "ipython2",
   "version": "2.7.6"
  }
 },
 "nbformat": 4,
 "nbformat_minor": 5
}
